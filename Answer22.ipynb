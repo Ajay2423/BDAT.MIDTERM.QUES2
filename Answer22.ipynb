{
 "cells": [
  {
   "cell_type": "code",
   "execution_count": 1,
   "id": "d642e1c5-198e-4022-b2d2-de3d1b52824d",
   "metadata": {
    "tags": []
   },
   "outputs": [
    {
     "name": "stdout",
     "output_type": "stream",
     "text": [
      "Collecting ipython-sql\n",
      "  Obtaining dependency information for ipython-sql from https://files.pythonhosted.org/packages/30/8f/9e50fa53ffc371483f9d1b90c1175b706d28a2e978e90a8894035af01905/ipython_sql-0.5.0-py3-none-any.whl.metadata\n",
      "  Downloading ipython_sql-0.5.0-py3-none-any.whl.metadata (17 kB)\n",
      "Collecting prettytable (from ipython-sql)\n",
      "  Obtaining dependency information for prettytable from https://files.pythonhosted.org/packages/3d/c4/a32f4bf44faf95accbbd5d7864ddef9e289749a8efbc3adaad4a4671779a/prettytable-3.10.0-py3-none-any.whl.metadata\n",
      "  Downloading prettytable-3.10.0-py3-none-any.whl.metadata (30 kB)\n",
      "Requirement already satisfied: ipython in c:\\users\\pc\\anaconda3\\lib\\site-packages (from ipython-sql) (8.15.0)\n",
      "Collecting sqlalchemy>=2.0 (from ipython-sql)\n",
      "  Obtaining dependency information for sqlalchemy>=2.0 from https://files.pythonhosted.org/packages/a5/82/aa4392972f83b2b2f341c7b4aad1027a5a524e8870dfc27c1d9c348064c9/SQLAlchemy-2.0.27-cp311-cp311-win_amd64.whl.metadata\n",
      "  Downloading SQLAlchemy-2.0.27-cp311-cp311-win_amd64.whl.metadata (9.8 kB)\n",
      "Collecting sqlparse (from ipython-sql)\n",
      "  Obtaining dependency information for sqlparse from https://files.pythonhosted.org/packages/98/5a/66d7c9305baa9f11857f247d4ba761402cea75db6058ff850ed7128957b7/sqlparse-0.4.4-py3-none-any.whl.metadata\n",
      "  Downloading sqlparse-0.4.4-py3-none-any.whl.metadata (4.0 kB)\n",
      "Requirement already satisfied: six in c:\\users\\pc\\anaconda3\\lib\\site-packages (from ipython-sql) (1.16.0)\n",
      "Requirement already satisfied: ipython-genutils in c:\\users\\pc\\anaconda3\\lib\\site-packages (from ipython-sql) (0.2.0)\n",
      "Requirement already satisfied: typing-extensions>=4.6.0 in c:\\users\\pc\\anaconda3\\lib\\site-packages (from sqlalchemy>=2.0->ipython-sql) (4.7.1)\n",
      "Requirement already satisfied: greenlet!=0.4.17 in c:\\users\\pc\\anaconda3\\lib\\site-packages (from sqlalchemy>=2.0->ipython-sql) (2.0.1)\n",
      "Requirement already satisfied: backcall in c:\\users\\pc\\anaconda3\\lib\\site-packages (from ipython->ipython-sql) (0.2.0)\n",
      "Requirement already satisfied: decorator in c:\\users\\pc\\anaconda3\\lib\\site-packages (from ipython->ipython-sql) (5.1.1)\n",
      "Requirement already satisfied: jedi>=0.16 in c:\\users\\pc\\anaconda3\\lib\\site-packages (from ipython->ipython-sql) (0.18.1)\n",
      "Requirement already satisfied: matplotlib-inline in c:\\users\\pc\\anaconda3\\lib\\site-packages (from ipython->ipython-sql) (0.1.6)\n",
      "Requirement already satisfied: pickleshare in c:\\users\\pc\\anaconda3\\lib\\site-packages (from ipython->ipython-sql) (0.7.5)\n",
      "Requirement already satisfied: prompt-toolkit!=3.0.37,<3.1.0,>=3.0.30 in c:\\users\\pc\\anaconda3\\lib\\site-packages (from ipython->ipython-sql) (3.0.36)\n",
      "Requirement already satisfied: pygments>=2.4.0 in c:\\users\\pc\\anaconda3\\lib\\site-packages (from ipython->ipython-sql) (2.15.1)\n",
      "Requirement already satisfied: stack-data in c:\\users\\pc\\anaconda3\\lib\\site-packages (from ipython->ipython-sql) (0.2.0)\n",
      "Requirement already satisfied: traitlets>=5 in c:\\users\\pc\\anaconda3\\lib\\site-packages (from ipython->ipython-sql) (5.7.1)\n",
      "Requirement already satisfied: colorama in c:\\users\\pc\\anaconda3\\lib\\site-packages (from ipython->ipython-sql) (0.4.6)\n",
      "Requirement already satisfied: wcwidth in c:\\users\\pc\\anaconda3\\lib\\site-packages (from prettytable->ipython-sql) (0.2.5)\n",
      "Requirement already satisfied: parso<0.9.0,>=0.8.0 in c:\\users\\pc\\anaconda3\\lib\\site-packages (from jedi>=0.16->ipython->ipython-sql) (0.8.3)\n",
      "Requirement already satisfied: executing in c:\\users\\pc\\anaconda3\\lib\\site-packages (from stack-data->ipython->ipython-sql) (0.8.3)\n",
      "Requirement already satisfied: asttokens in c:\\users\\pc\\anaconda3\\lib\\site-packages (from stack-data->ipython->ipython-sql) (2.0.5)\n",
      "Requirement already satisfied: pure-eval in c:\\users\\pc\\anaconda3\\lib\\site-packages (from stack-data->ipython->ipython-sql) (0.2.2)\n",
      "Downloading ipython_sql-0.5.0-py3-none-any.whl (20 kB)\n",
      "Downloading SQLAlchemy-2.0.27-cp311-cp311-win_amd64.whl (2.1 MB)\n",
      "   ---------------------------------------- 0.0/2.1 MB ? eta -:--:--\n",
      "    --------------------------------------- 0.0/2.1 MB 1.4 MB/s eta 0:00:02\n",
      "   -- ------------------------------------- 0.1/2.1 MB 1.1 MB/s eta 0:00:02\n",
      "   ---- ----------------------------------- 0.3/2.1 MB 1.3 MB/s eta 0:00:02\n",
      "   ------ --------------------------------- 0.3/2.1 MB 1.4 MB/s eta 0:00:02\n",
      "   -------- ------------------------------- 0.4/2.1 MB 1.5 MB/s eta 0:00:02\n",
      "   --------- ------------------------------ 0.5/2.1 MB 1.5 MB/s eta 0:00:02\n",
      "   ------------ --------------------------- 0.6/2.1 MB 1.7 MB/s eta 0:00:01\n",
      "   ------------- -------------------------- 0.7/2.1 MB 1.7 MB/s eta 0:00:01\n",
      "   ---------------- ----------------------- 0.8/2.1 MB 1.7 MB/s eta 0:00:01\n",
      "   ----------------- ---------------------- 0.9/2.1 MB 1.8 MB/s eta 0:00:01\n",
      "   -------------------- ------------------- 1.1/2.1 MB 1.9 MB/s eta 0:00:01\n",
      "   ---------------------- ----------------- 1.2/2.1 MB 1.9 MB/s eta 0:00:01\n",
      "   ----------------------- ---------------- 1.2/2.1 MB 1.9 MB/s eta 0:00:01\n",
      "   ------------------------- -------------- 1.3/2.1 MB 1.9 MB/s eta 0:00:01\n",
      "   --------------------------- ------------ 1.4/2.1 MB 1.9 MB/s eta 0:00:01\n",
      "   ------------------------------ --------- 1.6/2.1 MB 2.0 MB/s eta 0:00:01\n",
      "   -------------------------------- ------- 1.7/2.1 MB 2.0 MB/s eta 0:00:01\n",
      "   --------------------------------- ------ 1.7/2.1 MB 2.0 MB/s eta 0:00:01\n",
      "   --------------------------------- ------ 1.7/2.1 MB 2.0 MB/s eta 0:00:01\n",
      "   ------------------------------------ --- 1.9/2.1 MB 1.9 MB/s eta 0:00:01\n",
      "   ------------------------------------- -- 2.0/2.1 MB 1.9 MB/s eta 0:00:01\n",
      "   ---------------------------------------  2.1/2.1 MB 1.9 MB/s eta 0:00:01\n",
      "   ---------------------------------------- 2.1/2.1 MB 1.8 MB/s eta 0:00:00\n",
      "Downloading prettytable-3.10.0-py3-none-any.whl (28 kB)\n",
      "Downloading sqlparse-0.4.4-py3-none-any.whl (41 kB)\n",
      "   ---------------------------------------- 0.0/41.2 kB ? eta -:--:--\n",
      "   ---------------------------------------- 41.2/41.2 kB 672.7 kB/s eta 0:00:00\n",
      "Installing collected packages: sqlparse, sqlalchemy, prettytable, ipython-sql\n",
      "  Attempting uninstall: sqlalchemy\n",
      "    Found existing installation: SQLAlchemy 1.4.39\n",
      "    Uninstalling SQLAlchemy-1.4.39:\n",
      "      Successfully uninstalled SQLAlchemy-1.4.39\n",
      "Successfully installed ipython-sql-0.5.0 prettytable-3.10.0 sqlalchemy-2.0.27 sqlparse-0.4.4\n"
     ]
    }
   ],
   "source": [
    "!pip install ipython-sql"
   ]
  },
  {
   "cell_type": "code",
   "execution_count": 12,
   "id": "8aa676e8-1aa8-443f-a548-1b605bdafeed",
   "metadata": {
    "tags": []
   },
   "outputs": [
    {
     "name": "stdout",
     "output_type": "stream",
     "text": [
      "The sql extension is already loaded. To reload it, use:\n",
      "  %reload_ext sql\n"
     ]
    }
   ],
   "source": [
    "%load_ext sql"
   ]
  },
  {
   "cell_type": "code",
   "execution_count": 8,
   "id": "d0a35ed7-e323-462c-af36-389ef3763363",
   "metadata": {
    "tags": []
   },
   "outputs": [
    {
     "name": "stdout",
     "output_type": "stream",
     "text": [
      " * sqlite:///WeatherDB.db\n",
      "(sqlite3.OperationalError) near \"DATABASE\": syntax error\n",
      "[SQL: CREATE DATABASE IF NOT EXISTS WeatherDB;]\n",
      "(Background on this error at: https://sqlalche.me/e/20/e3q8)\n"
     ]
    }
   ],
   "source": [
    "%%sql\n",
    "CREATE DATABASE IF NOT EXISTS WeatherDB;\n",
    "USE WeatherDB;\n"
   ]
  },
  {
   "cell_type": "code",
   "execution_count": 3,
   "id": "9aa52756-9c8c-4a17-9854-b502a5a8593e",
   "metadata": {
    "tags": []
   },
   "outputs": [],
   "source": [
    "%sql sqlite:///WeatherDB.db"
   ]
  },
  {
   "cell_type": "code",
   "execution_count": 9,
   "id": "e3a01e18-1145-4410-af47-eb0de1c84e1b",
   "metadata": {
    "tags": []
   },
   "outputs": [
    {
     "name": "stdout",
     "output_type": "stream",
     "text": [
      " * sqlite:///WeatherDB.db\n",
      "Done.\n",
      "(sqlite3.IntegrityError) UNIQUE constraint failed: Weather.id\n",
      "[SQL: INSERT INTO Weather (id, recordDate, temperature) VALUES\n",
      "(1, '2015-01-01', 10),\n",
      "(2, '2015-01-02', 25),\n",
      "(3, '2015-01-03', 20),\n",
      "(4, '2015-01-04', 30);]\n",
      "(Background on this error at: https://sqlalche.me/e/20/gkpj)\n"
     ]
    }
   ],
   "source": [
    "%%sql\n",
    "CREATE TABLE IF NOT EXISTS Weather (\n",
    "    id INT PRIMARY KEY,\n",
    "    recordDate DATE,\n",
    "    temperature INT\n",
    ");\n",
    "\n",
    "INSERT INTO Weather (id, recordDate, temperature) VALUES\n",
    "(1, '2015-01-01', 10),\n",
    "(2, '2015-01-02', 25),\n",
    "(3, '2015-01-03', 20),\n",
    "(4, '2015-01-04', 30);"
   ]
  },
  {
   "cell_type": "code",
   "execution_count": 10,
   "id": "d3c2be2a-f4c3-4827-b24e-e1e32751f255",
   "metadata": {
    "tags": []
   },
   "outputs": [
    {
     "name": "stdout",
     "output_type": "stream",
     "text": [
      " * sqlite:///WeatherDB.db\n",
      "Done.\n"
     ]
    },
    {
     "data": {
      "text/html": [
       "<table>\n",
       "    <thead>\n",
       "        <tr>\n",
       "            <th>id</th>\n",
       "            <th>recordDate</th>\n",
       "            <th>temperature</th>\n",
       "        </tr>\n",
       "    </thead>\n",
       "    <tbody>\n",
       "        <tr>\n",
       "            <td>1</td>\n",
       "            <td>2015-01-01</td>\n",
       "            <td>10</td>\n",
       "        </tr>\n",
       "        <tr>\n",
       "            <td>2</td>\n",
       "            <td>2015-01-02</td>\n",
       "            <td>25</td>\n",
       "        </tr>\n",
       "        <tr>\n",
       "            <td>3</td>\n",
       "            <td>2015-01-03</td>\n",
       "            <td>20</td>\n",
       "        </tr>\n",
       "        <tr>\n",
       "            <td>4</td>\n",
       "            <td>2015-01-04</td>\n",
       "            <td>30</td>\n",
       "        </tr>\n",
       "    </tbody>\n",
       "</table>"
      ],
      "text/plain": [
       "[(1, '2015-01-01', 10),\n",
       " (2, '2015-01-02', 25),\n",
       " (3, '2015-01-03', 20),\n",
       " (4, '2015-01-04', 30)]"
      ]
     },
     "execution_count": 10,
     "metadata": {},
     "output_type": "execute_result"
    }
   ],
   "source": [
    "%%sql\n",
    "Select * from Weather"
   ]
  },
  {
   "cell_type": "code",
   "execution_count": 11,
   "id": "9828849b-28df-4d6d-a0c8-5e71e3e26b45",
   "metadata": {
    "tags": []
   },
   "outputs": [
    {
     "name": "stdout",
     "output_type": "stream",
     "text": [
      " * sqlite:///WeatherDB.db\n",
      "Done.\n"
     ]
    },
    {
     "data": {
      "text/html": [
       "<table>\n",
       "    <thead>\n",
       "        <tr>\n",
       "            <th>id</th>\n",
       "        </tr>\n",
       "    </thead>\n",
       "    <tbody>\n",
       "        <tr>\n",
       "            <td>2</td>\n",
       "        </tr>\n",
       "        <tr>\n",
       "            <td>4</td>\n",
       "        </tr>\n",
       "    </tbody>\n",
       "</table>"
      ],
      "text/plain": [
       "[(2,), (4,)]"
      ]
     },
     "execution_count": 11,
     "metadata": {},
     "output_type": "execute_result"
    }
   ],
   "source": [
    "%%sql\n",
    "SELECT w1.id\n",
    "FROM Weather w1\n",
    "JOIN Weather w2 ON w1.recordDate = DATE(w2.recordDate, '+1 day')\n",
    "WHERE w1.temperature > w2.temperature;\n"
   ]
  },
  {
   "cell_type": "code",
   "execution_count": null,
   "id": "a7c60706-2ce9-4ca5-afed-7f86750339b8",
   "metadata": {},
   "outputs": [],
   "source": []
  }
 ],
 "metadata": {
  "kernelspec": {
   "display_name": "Python 3 (ipykernel)",
   "language": "python",
   "name": "python3"
  },
  "language_info": {
   "codemirror_mode": {
    "name": "ipython",
    "version": 3
   },
   "file_extension": ".py",
   "mimetype": "text/x-python",
   "name": "python",
   "nbconvert_exporter": "python",
   "pygments_lexer": "ipython3",
   "version": "3.11.5"
  }
 },
 "nbformat": 4,
 "nbformat_minor": 5
}
